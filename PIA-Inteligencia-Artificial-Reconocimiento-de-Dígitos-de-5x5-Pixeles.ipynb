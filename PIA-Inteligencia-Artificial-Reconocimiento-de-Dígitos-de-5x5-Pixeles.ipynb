{
 "cells": [
  {
   "cell_type": "markdown",
   "metadata": {
    "id": "diljILra-Zs4"
   },
   "source": [
    "# <font size = \"5\" face = \"Cascadia Code\">PIA Inteligencia Artificial - Reconocimiento de Digitos de 5x5 Pixeles</font>"
   ]
  },
  {
   "cell_type": "markdown",
   "metadata": {
    "id": "pG7yg7Ay-Zs9"
   },
   "source": [
    "# <font  size = \"4\" face = \"Cascadia Code\">Integrantes del Equipo:<br> Ernesto Guadalupe Rincon Ortiz 1903481<br> Jair Azael Sánchez Tovar 1918174</font>"
   ]
  },
  {
   "cell_type": "markdown",
   "metadata": {
    "id": "5hzSOOCo-Zs9"
   },
   "source": [
    "# <font  size = \"4\" face = \"Fira Code\">Impresión de Digitos</font>"
   ]
  },
  {
   "cell_type": "code",
   "execution_count": null,
   "metadata": {
    "colab": {
     "base_uri": "https://localhost:8080/"
    },
    "id": "a2oO5GGQ-Zs-",
    "outputId": "ee33968f-0fae-4851-f948-f388b6141c54"
   },
   "outputs": [],
   "source": [
    "entradas = [ [1,1,1,1,1,1,0,0,0,1,1,0,0,0,1,1,0,0,0,1,1,1,1,1,1],\n",
    "             [0,0,1,0,0,0,0,1,0,0,0,0,1,0,0,0,0,1,0,0,0,0,1,0,0],\n",
    "             [1,1,1,1,1,0,0,0,0,1,1,1,1,1,1,1,0,0,0,0,1,1,1,1,1],\n",
    "             [1,1,1,1,1,0,0,0,0,1,1,1,1,1,1,0,0,0,0,1,1,1,1,1,1],\n",
    "             [1,0,0,0,1,1,0,0,0,1,1,1,1,1,1,0,0,0,0,1,0,0,0,0,1],\n",
    "             [1,1,1,1,1,1,0,0,0,0,1,1,1,1,1,0,0,0,0,1,1,1,1,1,1],\n",
    "             [1,1,1,1,1,1,0,0,0,0,1,1,1,1,1,1,0,0,0,1,1,1,1,1,1],\n",
    "             [1,1,1,1,1,0,0,0,0,1,0,0,0,0,1,0,0,0,0,1,0,0,0,0,1],\n",
    "             [1,1,1,1,1,1,0,0,0,1,1,1,1,1,1,1,0,0,0,1,1,1,1,1,1],\n",
    "             [1,1,1,1,1,1,0,0,0,1,1,1,1,1,1,0,0,0,0,1,1,1,1,1,1] ]\n",
    " \n",
    "def Imprimir(entrada):\n",
    "    \n",
    "    print(\"\")\n",
    "    print('\\t', end='')\n",
    "    y = ''.join([str(x) for x in entrada])\n",
    "    y=y.replace(\"0\", \".\")\n",
    "    y=y.replace(\"1\", \"@\")\n",
    "    \n",
    "    for i, z in enumerate(y):\n",
    "        \n",
    "        print(z,end='')\n",
    "        \n",
    "        if (i+1)%5==0:\n",
    "            \n",
    "            print(\"\")\n",
    "            print('\\t', end='')\n",
    "\n",
    "for i,v in enumerate(entradas):\n",
    "    Imprimir(v)"
   ]
  },
  {
   "cell_type": "markdown",
   "metadata": {
    "id": "ILJgyeASJi6K"
   },
   "source": [
    "# <font  size = \"4\" face = \"Cascadia Code\">Declaración de Funciones</font>"
   ]
  },
  {
   "cell_type": "code",
   "execution_count": null,
   "metadata": {
    "id": "z-TjTzsQ-ZtB"
   },
   "outputs": [],
   "source": [
    "import math\n",
    "\n",
    "def producto_punto(v,w):\n",
    "    \n",
    "    return sum(x*y for x,y in zip(v,w))\n",
    "\n",
    "def Sigmoide (x):\n",
    "    \n",
    "    return 1/(1+math.exp(-x))\n",
    "\n",
    "def Salida_Neurona(pesos, entradas):\n",
    "\n",
    "    return Sigmoide(producto_punto(pesos,entradas))\n",
    "\n",
    "def FFNN (red_neuronal,entrada):\n",
    "    \n",
    "    salidas = []\n",
    "\n",
    "    for capa in red_neuronal:\n",
    "\n",
    "        entrada = entrada +[1]\n",
    "        salida = [Salida_Neurona(neurona,entrada) for neurona in capa]\n",
    "        salidas.append(salida)\n",
    "        entrada = salida\n",
    "\n",
    "    return salidas\n",
    "\n",
    "def Backpropagation(xor_nn,v_entrada,v_objetivo):\n",
    "    \n",
    "    salidas_ocultas , salidas = FFNN (xor_nn , v_entrada)\n",
    "    \n",
    "    salida_nuevo = []\n",
    "    oculta_nuevo = []\n",
    "    alfa = 0.14\n",
    "    \n",
    "    error = 0.5* sum((salida - objetivo)*(salida-objetivo) \n",
    "                for salida , objetivo in zip(salidas , v_objetivo))\n",
    "                \n",
    "    salida_deltas = [salida*(1-salida) * (salida- objetivo) \n",
    "                 for salida , objetivo in zip(salidas , v_objetivo)]\n",
    "\n",
    "    for i , neurona_salida in enumerate(xor_nn[-1]):\n",
    "\n",
    "        for j, salidas_oculta in enumerate(salidas_ocultas + [1]):\n",
    "\n",
    "            neurona_salida[j] -= salida_deltas[i] * salidas_oculta*alfa\n",
    "\n",
    "        salida_nuevo.append(neurona_salida)\n",
    "\n",
    "    ocultas_deltas = [salida_oculta * (1-salida_oculta) * \n",
    "           producto_punto(salida_deltas,[n[i] for n in xor_nn[-1]])\n",
    "           for i , salida_oculta in enumerate(salidas_ocultas)]\n",
    "\n",
    "    for i , neurona_oculta in enumerate(xor_nn[0]):\n",
    "\n",
    "        for j,input in enumerate(v_entrada + [1]):\n",
    "\n",
    "            neurona_oculta[j] -= ocultas_deltas[i]*input*alfa\n",
    "\n",
    "        oculta_nuevo.append(neurona_oculta)\n",
    "\n",
    "    return oculta_nuevo , salida_nuevo,error"
   ]
  },
  {
   "cell_type": "markdown",
   "metadata": {
    "id": "FLp7bXYOJwwK"
   },
   "source": [
    "# <font  size = \"4\" face = \"Cascadia Code\">Inicialización de los Pesos de la Red Neuronal</font>"
   ]
  },
  {
   "cell_type": "code",
   "execution_count": null,
   "metadata": {
    "id": "sD2J6ERE-ZtC"
   },
   "outputs": [],
   "source": [
    "import random\n",
    "\n",
    "tamaño_entrada = 25\n",
    "numero_ocultas = 5\n",
    "tamaño_salida = 10\n",
    "\n",
    "def Pesos():\n",
    "\n",
    "    capa_oculta = [[random.randint(-100,100)/ 100 \n",
    "                    for _ in range(tamaño_entrada +1)]\n",
    "                   for _ in range (numero_ocultas)]\n",
    "\n",
    "    capa_salida = [[random.randint(-100,100)/ 100 \n",
    "                    for _ in range(numero_ocultas +1)]\n",
    "                   for _ in range (tamaño_salida)]\n",
    "\n",
    "    return capa_oculta , capa_salida\n",
    "\n",
    "capa_oculta , capa_salida = Pesos()\n",
    "\n",
    "NN = [capa_oculta , capa_salida]"
   ]
  },
  {
   "cell_type": "markdown",
   "metadata": {
    "id": "wzgOL9GPJfMC"
   },
   "source": [
    "# <font  size = \"4\" face = \"Cascadia Code\">Entrenamiento de la Red Neuronal</font>"
   ]
  },
  {
   "cell_type": "code",
   "execution_count": null,
   "metadata": {
    "colab": {
     "base_uri": "https://localhost:8080/"
    },
    "id": "oPYiZVOK-ZtE",
    "outputId": "92b5d11f-5ed2-40f9-986c-e0f300af9559"
   },
   "outputs": [],
   "source": [
    "objetivos = [[1 if i == j else 0 for i in range(10)] for j in range(10)]\n",
    "\n",
    "# Este Proceso Tarda 7 Minutos Aproximadamente \n",
    "# Promedio Errores Cuadrado: 9.999944103605788e-05 Aproximadamente\n",
    "# Iteraciones: 179154 Aproximadamente\n",
    "\n",
    "promedio_errores_cuadrados=1\n",
    "i=1\n",
    "while promedio_errores_cuadrados > 0.0001:\n",
    "    \n",
    "    suma=0\n",
    "    for v_entrada, v_objetivo in zip(entradas, objetivos):\n",
    "        \n",
    "        oculta, salida, error = Backpropagation(NN,[x*2-1 for x in v_entrada], v_objetivo)\n",
    "        NN=[oculta,salida]\n",
    "        suma=suma+error\n",
    "        \n",
    "    promedio_errores_cuadrados = suma/len(entradas)\n",
    "    print(\"\\nPromedio Errores Cuadrado: \", promedio_errores_cuadrados)\n",
    "    print(\"\\nIteración: \", i)\n",
    "    i=i+1\n",
    "\n"
   ]
  },
  {
   "cell_type": "markdown",
   "metadata": {
    "id": "xomtmLCD_ypy"
   },
   "source": [
    "# <font  size = \"4\" face = \"Cascadia Code\">Predicción de cada uno de los dígitos</font>\n",
    "# <font  size = \"2\" face = \"Cascadia Code\">En cada una de las posiciones del arreglo de salida se encuentra la probabilidad de que sea el digito que le corresponda al número de posición dado</font>\n",
    "\n"
   ]
  },
  {
   "cell_type": "code",
   "execution_count": null,
   "metadata": {
    "colab": {
     "base_uri": "https://localhost:8080/"
    },
    "id": "Ngg9f93M-ZtF",
    "outputId": "9ffbe22a-133c-4942-8736-74f36fa6e420"
   },
   "outputs": [],
   "source": [
    "def Prediccion(entrada):\n",
    "\n",
    "    return FFNN(NN, [x*2-1 for x in entrada])[-1]\n",
    "\n",
    "for i in range(10):\n",
    "  \n",
    "    print(f\"\\nPredicción del Dígito {i}\")\n",
    "    print(f\"\\n{Prediccion(entradas[i])}\")\n",
    "    \n",
    "\n"
   ]
  },
  {
   "cell_type": "markdown",
   "metadata": {
    "id": "2o4V4ZnSGmFy"
   },
   "source": [
    "# <font  size = \"4\" face = \"Cascadia Code\">Se calcula la Eficiencia de la Red Neuronal a partir de la predicción de cada uno de los dígitos</font>"
   ]
  },
  {
   "cell_type": "code",
   "execution_count": null,
   "metadata": {
    "colab": {
     "base_uri": "https://localhost:8080/"
    },
    "id": "fEoVqGcAArUm",
    "outputId": "51d30fcc-48c9-49e7-c670-996b993aacac"
   },
   "outputs": [],
   "source": [
    "suma = 0\n",
    "k=0\n",
    "for digito in entradas:\n",
    "\n",
    "    salida = FFNN(NN, [x*2-1 for x in digito])[-1]\n",
    "    digitos = [i for i,j in enumerate(salida) if j == max(salida)]\n",
    "\n",
    "    if digitos[0] == k:\n",
    "        suma += 1\n",
    "    k+=1\n",
    "\n",
    "Eficacia = suma/len(entradas)*100\n",
    "print(f\"La Eficiencia de la Red Neuronal es de {Eficacia}%\")\n",
    "\n",
    "if Eficacia == 100:\n",
    "  print(f\"\\nPor lo tanto, las inferencias realizadas por la Red Neuronal son correctas\")"
   ]
  }
 ],
 "metadata": {
  "interpreter": {
   "hash": "adab3514fa0783fe794b91056570ba491b16ed29c0114d8c2b8e2be064511756"
  },
  "kernelspec": {
   "display_name": "Python 3.10.4 64-bit",
   "language": "python",
   "name": "python3"
  },
  "language_info": {
   "codemirror_mode": {
    "name": "ipython",
    "version": 3
   },
   "file_extension": ".py",
   "mimetype": "text/x-python",
   "name": "python",
   "nbconvert_exporter": "python",
   "pygments_lexer": "ipython3",
   "version": "3.10.4"
  },
  "orig_nbformat": 4
 },
 "nbformat": 4,
 "nbformat_minor": 2
}
